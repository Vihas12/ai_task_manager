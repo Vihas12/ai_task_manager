{
 "cells": [
  {
   "cell_type": "code",
   "execution_count": 7,
   "id": "48f6de80",
   "metadata": {},
   "outputs": [],
   "source": [
    "import pandas as pd\n",
    "import matplotlib.pyplot as plt\n",
    "import seaborn as sns\n",
    "import nltk\n",
    "from nltk.tokenize import word_tokenize\n",
    "from nltk.corpus import stopwords\n",
    "from collections import Counter\n"
   ]
  },
  {
   "cell_type": "code",
   "execution_count": 10,
   "id": "947385f5",
   "metadata": {},
   "outputs": [
    {
     "name": "stderr",
     "output_type": "stream",
     "text": [
      "[nltk_data] Downloading package punkt to\n",
      "[nltk_data]     C:\\Users\\vihas\\AppData\\Roaming\\nltk_data...\n",
      "[nltk_data]   Package punkt is already up-to-date!\n",
      "[nltk_data] Downloading package stopwords to\n",
      "[nltk_data]     C:\\Users\\vihas\\AppData\\Roaming\\nltk_data...\n",
      "[nltk_data]   Package stopwords is already up-to-date!\n"
     ]
    },
    {
     "data": {
      "text/plain": [
       "True"
      ]
     },
     "execution_count": 10,
     "metadata": {},
     "output_type": "execute_result"
    }
   ],
   "source": [
    "# Download NLTK resources (run once)\n",
    "nltk.download(\"punkt\")\n",
    "nltk.download(\"stopwords\")"
   ]
  },
  {
   "cell_type": "markdown",
   "id": "153446e8",
   "metadata": {},
   "source": [
    "LOAD THE DATA"
   ]
  },
  {
   "cell_type": "code",
   "execution_count": null,
   "id": "f7473133",
   "metadata": {},
   "outputs": [],
   "source": [
    "data = pd.read_csv(\"../data/synthetic_tasks.csv\") "
   ]
  },
  {
   "cell_type": "code",
   "execution_count": 11,
   "id": "2d0d02a0",
   "metadata": {},
   "outputs": [
    {
     "name": "stdout",
     "output_type": "stream",
     "text": [
      "Dataset Shape: (1000, 7)\n",
      "\n",
      "First 5 Rows:\n",
      "                                     id  \\\n",
      "0  e13d0715-d183-4bb6-9fb2-11d91b926627   \n",
      "1  f896d75e-194e-4fb7-9daf-236c52067807   \n",
      "2  09042321-9fa8-4dbe-8650-ce76fcfe07e9   \n",
      "3  73c4a045-c175-4878-b4da-ee86cb3b5a9f   \n",
      "4  8cf04e1e-6db0-474a-b69b-b8bfd7b294f1   \n",
      "\n",
      "                                           summary  \\\n",
      "0                            Life yes doctor late.   \n",
      "1                         Research me quite truth.   \n",
      "2                    Method shake peace near down.   \n",
      "3  Clear employee itself production reach Mrs guy.   \n",
      "4  Record like account bag fact probably magazine.   \n",
      "\n",
      "                                         description priority assignee  \\\n",
      "0  Few want happy general ask plan. Color surface...     High    Alice   \n",
      "1  Compare interesting particular least worker ac...      Low      Bob   \n",
      "2                           Test reach say somebody.      Low    Alice   \n",
      "3  Senior stand such employee various eight. Styl...     High    Alice   \n",
      "4  Loss could visit star fine face authority. Rel...     High  Charlie   \n",
      "\n",
      "      duedate       status  \n",
      "0  2025-04-18         Open  \n",
      "1  2025-05-01         Open  \n",
      "2  2025-05-07  In Progress  \n",
      "3  2025-02-16  In Progress  \n",
      "4  2025-03-17         Open  \n",
      "\n",
      "Column Info:\n",
      "<class 'pandas.core.frame.DataFrame'>\n",
      "RangeIndex: 1000 entries, 0 to 999\n",
      "Data columns (total 7 columns):\n",
      " #   Column       Non-Null Count  Dtype \n",
      "---  ------       --------------  ----- \n",
      " 0   id           1000 non-null   object\n",
      " 1   summary      1000 non-null   object\n",
      " 2   description  1000 non-null   object\n",
      " 3   priority     1000 non-null   object\n",
      " 4   assignee     1000 non-null   object\n",
      " 5   duedate      1000 non-null   object\n",
      " 6   status       1000 non-null   object\n",
      "dtypes: object(7)\n",
      "memory usage: 54.8+ KB\n",
      "None\n"
     ]
    }
   ],
   "source": [
    "# Preview data\n",
    "print(\"Dataset Shape:\", data.shape)\n",
    "print(\"\\nFirst 5 Rows:\")\n",
    "print(data.head())\n",
    "print(\"\\nColumn Info:\")\n",
    "print(data.info())"
   ]
  },
  {
   "cell_type": "code",
   "execution_count": 13,
   "id": "aa959841",
   "metadata": {},
   "outputs": [
    {
     "name": "stdout",
     "output_type": "stream",
     "text": [
      "(1000, 7)\n",
      "id             object\n",
      "summary        object\n",
      "description    object\n",
      "priority       object\n",
      "assignee       object\n",
      "duedate        object\n",
      "status         object\n",
      "dtype: object\n"
     ]
    },
    {
     "data": {
      "text/html": [
       "<div>\n",
       "<style scoped>\n",
       "    .dataframe tbody tr th:only-of-type {\n",
       "        vertical-align: middle;\n",
       "    }\n",
       "\n",
       "    .dataframe tbody tr th {\n",
       "        vertical-align: top;\n",
       "    }\n",
       "\n",
       "    .dataframe thead th {\n",
       "        text-align: right;\n",
       "    }\n",
       "</style>\n",
       "<table border=\"1\" class=\"dataframe\">\n",
       "  <thead>\n",
       "    <tr style=\"text-align: right;\">\n",
       "      <th></th>\n",
       "      <th>id</th>\n",
       "      <th>summary</th>\n",
       "      <th>description</th>\n",
       "      <th>priority</th>\n",
       "      <th>assignee</th>\n",
       "      <th>duedate</th>\n",
       "      <th>status</th>\n",
       "    </tr>\n",
       "  </thead>\n",
       "  <tbody>\n",
       "    <tr>\n",
       "      <th>count</th>\n",
       "      <td>1000</td>\n",
       "      <td>1000</td>\n",
       "      <td>1000</td>\n",
       "      <td>1000</td>\n",
       "      <td>1000</td>\n",
       "      <td>1000</td>\n",
       "      <td>1000</td>\n",
       "    </tr>\n",
       "    <tr>\n",
       "      <th>unique</th>\n",
       "      <td>1000</td>\n",
       "      <td>1000</td>\n",
       "      <td>1000</td>\n",
       "      <td>3</td>\n",
       "      <td>3</td>\n",
       "      <td>158</td>\n",
       "      <td>3</td>\n",
       "    </tr>\n",
       "    <tr>\n",
       "      <th>top</th>\n",
       "      <td>e13d0715-d183-4bb6-9fb2-11d91b926627</td>\n",
       "      <td>Life yes doctor late.</td>\n",
       "      <td>Few want happy general ask plan. Color surface...</td>\n",
       "      <td>Low</td>\n",
       "      <td>Bob</td>\n",
       "      <td>2025-04-26</td>\n",
       "      <td>Open</td>\n",
       "    </tr>\n",
       "    <tr>\n",
       "      <th>freq</th>\n",
       "      <td>1</td>\n",
       "      <td>1</td>\n",
       "      <td>1</td>\n",
       "      <td>350</td>\n",
       "      <td>372</td>\n",
       "      <td>13</td>\n",
       "      <td>344</td>\n",
       "    </tr>\n",
       "  </tbody>\n",
       "</table>\n",
       "</div>"
      ],
      "text/plain": [
       "                                          id                summary  \\\n",
       "count                                   1000                   1000   \n",
       "unique                                  1000                   1000   \n",
       "top     e13d0715-d183-4bb6-9fb2-11d91b926627  Life yes doctor late.   \n",
       "freq                                       1                      1   \n",
       "\n",
       "                                              description priority assignee  \\\n",
       "count                                                1000     1000     1000   \n",
       "unique                                               1000        3        3   \n",
       "top     Few want happy general ask plan. Color surface...      Low      Bob   \n",
       "freq                                                    1      350      372   \n",
       "\n",
       "           duedate status  \n",
       "count         1000   1000  \n",
       "unique         158      3  \n",
       "top     2025-04-26   Open  \n",
       "freq            13    344  "
      ]
     },
     "execution_count": 13,
     "metadata": {},
     "output_type": "execute_result"
    }
   ],
   "source": [
    "# Shape and types\n",
    "print(data.shape)\n",
    "print(data.dtypes)\n",
    "\n",
    "# General summary\n",
    "data.describe(include='all')"
   ]
  },
  {
   "cell_type": "code",
   "execution_count": 15,
   "id": "489b1b30",
   "metadata": {},
   "outputs": [
    {
     "data": {
      "text/plain": [
       "id             0\n",
       "summary        0\n",
       "description    0\n",
       "priority       0\n",
       "assignee       0\n",
       "duedate        0\n",
       "status         0\n",
       "dtype: int64"
      ]
     },
     "execution_count": 15,
     "metadata": {},
     "output_type": "execute_result"
    }
   ],
   "source": [
    "# check for missing value\n",
    "data.isnull().sum().sort_values(ascending=False)\n"
   ]
  },
  {
   "cell_type": "code",
   "execution_count": 16,
   "id": "85b3ca28",
   "metadata": {},
   "outputs": [
    {
     "data": {
      "image/png": "[encoded data removed]",
      "text/plain": [
       "<Figure size 640x480 with 1 Axes>"
      ]
     },
     "metadata": {},
     "output_type": "display_data"
    }
   ],
   "source": [
    "sns.countplot(x='priority', data=data)\n",
    "plt.title(\"Task Priority Distribution\")\n",
    "plt.show()\n"
   ]
  },
  {
   "cell_type": "code",
   "execution_count": null,
   "id": "01d5d289",
   "metadata": {},
   "outputs": [],
   "source": []
  }
 ],
 "metadata": {
  "kernelspec": {
   "display_name": "venv",
   "language": "python",
   "name": "python3"
  },
  "language_info": {
   "codemirror_mode": {
    "name": "ipython",
    "version": 3
   },
   "file_extension": ".py",
   "mimetype": "text/x-python",
   "name": "python",
   "nbconvert_exporter": "python",
   "pygments_lexer": "ipython3",
   "version": "3.13.2"
  }
 },
 "nbformat": 4,
 "nbformat_minor": 5
}
